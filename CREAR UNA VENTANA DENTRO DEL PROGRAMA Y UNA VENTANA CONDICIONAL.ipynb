{
 "cells": [
  {
   "cell_type": "code",
   "execution_count": null,
   "id": "8160b252",
   "metadata": {},
   "outputs": [],
   "source": [
    "## crear una ventana dentro del programa y una ventana condicional\n",
    "\n",
    "import tkinter as tk\n",
    "from tkinter import messagebox   ### el paquete messagebox sirve para traer mensajes de advertencia\n",
    "\n",
    "#1. crear una funcion que valide la contraseña\n",
    "\n",
    "def validar():\n",
    "    if entrada1.get()==\"2680\": ## el comanod get es similar al input, permite que el usuario ingrese contraseña\n",
    "        abrirventana2()\n",
    "    else:\n",
    "        messagebox.showwarning(\"cuidado\", \"password incorrecto\")\n",
    "        \n",
    "#2. crear una funicon que abra la ventana 2( configura la ventana)      \n",
    "def abrirventana2():\n",
    "    ventana.withdraw()\n",
    "    win=tk.Toplevel() ## ventana hija de la ventana\n",
    "    win.geometry(\"300x350+100+100\") ## establece el tamaño de la ventana y la ubicacion( ver coordenadas de pixles)\n",
    "    win.configure(background=\"dark turquoise\") ## colocamos un fondo de color\n",
    "    win.title(\"ventana 2\") ## colocamos un titulo a la ventana hija\n",
    "    e3=tk.Label(win, text=\"bienvenido a la segundo ventana\",bg=\"pink\",fg=\"white\")## crear una etiqueta, en la ventana win y con el texto\n",
    "    e3.pack(padx=5,pady=5,ipadx=5,ipady=5,fill=tk.X)\n",
    "    \n",
    "    boton2=tk.Button(win,text=\"ok\",command=win.destroy) ## boton para cerrar la ventana\n",
    "    boton2.pack(side=tk.TOP)\n",
    "    \n",
    "#3. crear una funcion que sirva para cerrar la ventana\n",
    "def cerrarventana():\n",
    "    ventana.destroy()\n",
    "\n",
    "\n",
    "## crear la ventana principal\n",
    "\n",
    "ventana=tk.Tk()\n",
    "ventana.title(\"ventana 1\")\n",
    "ventana.geometry(\"500x500\")\n",
    "ventana.configure(background=\"dark turquoise\")\n",
    "\n",
    "\n",
    "## crear una etiqueta para que el usuario pueda introducir el password\n",
    "    \n",
    "etiqueta1=tk.Label(ventana,text=\" password: \", bg=\"pink\", fg=\"white\") ## rea na etiqueta en ventana qur tiene de titulo password\n",
    "etiqueta1.pack(padx=5,pady=5,ipadx=5,ipady=5)\n",
    "entrada1=tk.Entry(ventana)  ### ventana para que el usuario introduzca datos\n",
    "entrada1.pack(fill=tk.X,padx=5,pady=5,ipadx=5,ipady=5) ## configuracion de la ventana \n",
    "\n",
    "boton=tk.Button(ventana,text=\"nueva ventana\", fg=\"blue\",command=abrirventana2) ## crea un boton para crear una nueva ventana\n",
    "boton.pack(side=tk.TOP)\n",
    "\n",
    "boton3=tk.Button(ventana,text=\"validar password\", fg=\"blue\",command=validar) ## crea un boton para validar la contreseña introducida\n",
    "boton3.pack(side=tk.TOP)\n",
    "\n",
    "ventana.mainloop() ## crea el ciclo infinito para que no se cierre la ventana y que si se cierra sea por un boton o por el usuario mismo\n"
   ]
  }
 ],
 "metadata": {
  "kernelspec": {
   "display_name": "Python 3 (ipykernel)",
   "language": "python",
   "name": "python3"
  },
  "language_info": {
   "codemirror_mode": {
    "name": "ipython",
    "version": 3
   },
   "file_extension": ".py",
   "mimetype": "text/x-python",
   "name": "python",
   "nbconvert_exporter": "python",
   "pygments_lexer": "ipython3",
   "version": "3.8.12"
  }
 },
 "nbformat": 4,
 "nbformat_minor": 5
}
