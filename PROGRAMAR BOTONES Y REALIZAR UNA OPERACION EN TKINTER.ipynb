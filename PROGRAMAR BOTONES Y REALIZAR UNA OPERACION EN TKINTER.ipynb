{
 "cells": [
  {
   "cell_type": "code",
   "execution_count": 7,
   "id": "95b23fdf",
   "metadata": {},
   "outputs": [],
   "source": [
    "## PROGRAMAR BOTONES Y REALIZAR UNA OPERACION EN TKINTER\n",
    "\n",
    "import tkinter as tk\n",
    "\n",
    "## crear funciones\n",
    "\n",
    "def suma():\n",
    "    suma=int(entrada1.get())+int(entrada2.get())\n",
    "    return var.set(suma) ## fija el resultado de suma y lo manda a la variable\n",
    "\n",
    "def cerrar():\n",
    "    ventana.destroy()\n",
    "\n",
    "## crear la ventana en tkinter ####\n",
    "ventana=tk.Tk()\n",
    "\n",
    "ventana.title(\"sumadora\")\n",
    "ventana.geometry(\"380x380\")\n",
    "ventana.configure(background=\"dark turquoise\")\n",
    "\n",
    "var=tk.StringVar() ## variable de conexion entre la funcion y el resultado\n",
    "\n",
    "e1=tk.Label(ventana,text=\"numero 1: \", bg=\"pink\",fg=\"white\") ##crear la etiqueta de la primera variable\n",
    "e1.pack(padx=5,pady=5,ipadx=5,ipady=5,fill=tk.X) ## crear la etiqueta\n",
    "\n",
    "entrada1=tk.Entry(ventana) ## variable de entrada para el usuario\n",
    "entrada1.pack(fill=tk.X,padx=5,pady=5,ipadx=5,ipady=5) ## configuracion de la interface\n",
    "\n",
    "\n",
    "e2=tk.Label(ventana,text=\"numero 2: \", bg=\"pink\",fg=\"white\")# crear la etiqueta para la segunda variable\n",
    "e2.pack(padx=5,pady=5,ipadx=5,ipady=5,fill=tk.X) ## crear la etiqueta\n",
    " \n",
    "entrada2=tk.Entry(ventana)  ## creacion de la variable \n",
    "entrada2.pack(fill=tk.X,padx=5,pady=5,ipadx=5,ipady=5)## crear la variable\n",
    "\n",
    "res=tk.Label(ventana,bg=\"plum\", textvariable=var,padx=5,pady=5,width=50) ## crea la variable donde se va a ir el resultado\n",
    "res.pack() ## crea la variable\n",
    "\n",
    "## botones\n",
    "botonsuma=tk.Button(ventana,text=\"suma\",fg=\"blue\",command=suma) ## crea un boton para ejecutar la funcion\n",
    "botonsuma.pack(side=tk.TOP) ## crea el boton en la ventana y que sea boton\n",
    "\n",
    "## boton para cerrar el programa\n",
    "botoncierra=tk.Button(ventana,text=\"cerrar\",fg=\"blue\",command=cerrar) ## crea un boton para ejecutar la funcion\n",
    "botoncierra.pack(side=tk.TOP) ## crea el boton en la ventana y que sea boton\n",
    "\n",
    "\n",
    "\n",
    "\n",
    "ventana.mainloop()\n",
    "\n",
    "## finaliza la creacion de la ventana"
   ]
  }
 ],
 "metadata": {
  "kernelspec": {
   "display_name": "Python 3",
   "language": "python",
   "name": "python3"
  },
  "language_info": {
   "codemirror_mode": {
    "name": "ipython",
    "version": 3
   },
   "file_extension": ".py",
   "mimetype": "text/x-python",
   "name": "python",
   "nbconvert_exporter": "python",
   "pygments_lexer": "ipython3",
   "version": "3.8.8"
  }
 },
 "nbformat": 4,
 "nbformat_minor": 5
}
